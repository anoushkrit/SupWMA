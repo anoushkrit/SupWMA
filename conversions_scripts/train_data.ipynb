{
 "cells": [
  {
   "cell_type": "code",
   "execution_count": 1,
   "metadata": {},
   "outputs": [],
   "source": [
    "import h5py\n",
    "filename = \"/home/ang/Documents/GitHub/SupWMA/TrainData/198gtswm_198ol_602other/h5_np15/sf_clusters_train_featMatrix_1.h5\"\n",
    "\n",
    "def read_h5(filename, analyse= True):\n",
    "    with h5py.File(filename, \"r\") as f:\n",
    "        # List all groups\n",
    "        print(\"Keys: %s\" % f.keys())\n",
    "        a_group_key = list(f.keys())[0]\n",
    "\n",
    "        # Get the data\n",
    "        data = list(f[a_group_key])\n",
    "\n",
    "    if analyse:\n",
    "        print(\"Data Type of data in featMatrix h5 file: \", type(data))\n",
    "        print(\"No. of streamlines in the data\", len(data))\n",
    "        print(\"No. of points per streamline\", len(data[1]))\n",
    "        try:\n",
    "            print(\"Coordinates length\", len(data[0][0]))\n",
    "            print('Sample Streamline', data[1])\n",
    "        except: \n",
    "            pass\n",
    "\n",
    "    return data, f.keys()"
   ]
  },
  {
   "cell_type": "code",
   "execution_count": 2,
   "metadata": {},
   "outputs": [
    {
     "name": "stdout",
     "output_type": "stream",
     "text": [
      "Keys: <KeysViewHDF5 ['other_feat', 'sc_feat']>\n",
      "Data Type of data in featMatrix h5 file:  <class 'list'>\n",
      "No. of streamlines in the data 158366\n",
      "No. of points per streamline 15\n",
      "Coordinates length 3\n",
      "Sample Streamline [[  8.877488   -88.92586     31.49916   ]\n",
      " [ 17.618284   -83.49721     24.240885  ]\n",
      " [ 19.514257   -73.90898     15.355245  ]\n",
      " [ 26.04937    -63.622036    13.09342   ]\n",
      " [ 26.555466   -53.93886     13.793616  ]\n",
      " [ 20.999657   -43.901436    13.082065  ]\n",
      " [ 12.211026   -35.81253     12.212115  ]\n",
      " [ -0.4825362  -36.4597      11.983168  ]\n",
      " [-10.876299   -41.930523    16.12313   ]\n",
      " [-18.480263   -48.511402    22.572311  ]\n",
      " [-29.448261   -45.85284     20.997347  ]\n",
      " [-33.890068   -44.467377    11.563853  ]\n",
      " [-40.26828    -47.221706    -0.18652414]\n",
      " [-50.813816   -48.81105     -6.1733723 ]\n",
      " [-52.793045   -57.5229     -14.212675  ]]\n"
     ]
    }
   ],
   "source": [
    "feat_data, feat_key = read_h5(filename=filename)"
   ]
  },
  {
   "cell_type": "code",
   "execution_count": 3,
   "metadata": {},
   "outputs": [
    {
     "name": "stdout",
     "output_type": "stream",
     "text": [
      "Keys: <KeysViewHDF5 ['label_names', 'other_label', 'sc_label']>\n",
      "Data Type of data in featMatrix h5 file:  <class 'list'>\n",
      "No. of streamlines in the data 998\n",
      "No. of points per streamline 13\n"
     ]
    }
   ],
   "source": [
    "filename = \"/home/ang/Documents/GitHub/SupWMA/TrainData/198gtswm_198ol_602other/h5_np15/sf_clusters_train_label_1.h5\"\n",
    "\n",
    "label_data, label_key = read_h5(filename=filename)\n"
   ]
  },
  {
   "cell_type": "code",
   "execution_count": null,
   "metadata": {},
   "outputs": [],
   "source": []
  }
 ],
 "metadata": {
  "kernelspec": {
   "display_name": "Python 3.6.10 ('SupWMA')",
   "language": "python",
   "name": "python3"
  },
  "language_info": {
   "codemirror_mode": {
    "name": "ipython",
    "version": 3
   },
   "file_extension": ".py",
   "mimetype": "text/x-python",
   "name": "python",
   "nbconvert_exporter": "python",
   "pygments_lexer": "ipython3",
   "version": "3.6.10"
  },
  "orig_nbformat": 4,
  "vscode": {
   "interpreter": {
    "hash": "36aec90b5a07fafc043f146ab1db38cbda9ca0590150a6d49f81c4cf72882f5a"
   }
  }
 },
 "nbformat": 4,
 "nbformat_minor": 2
}
