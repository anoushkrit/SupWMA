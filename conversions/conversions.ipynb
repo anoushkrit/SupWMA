{
 "cells": [
  {
   "cell_type": "code",
   "execution_count": 1,
   "metadata": {},
   "outputs": [],
   "source": [
    "import nibabel as nib\n",
    "streams = nib.streamlines.load(\"/home/ang/Documents/GitHub/SupWMA/merged_tracks.trk\")"
   ]
  },
  {
   "cell_type": "markdown",
   "metadata": {},
   "source": [
    "## trk2tck"
   ]
  },
  {
   "cell_type": "code",
   "execution_count": 2,
   "metadata": {},
   "outputs": [
    {
     "name": "stdout",
     "output_type": "stream",
     "text": [
      "<nibabel.streamlines.tractogram.Tractogram object at 0x7fc3fc04fe48>\n"
     ]
    },
    {
     "data": {
      "text/plain": [
       "<nibabel.streamlines.trk.TrkFile at 0x7fc3f49c4ef0>"
      ]
     },
     "execution_count": 2,
     "metadata": {},
     "output_type": "execute_result"
    }
   ],
   "source": [
    "nib.streamlines.save(streams.tractogram, filename= \"/home/ang/Documents/GitHub/SupWMA/merged_tracks.tck\")\n",
    "print(streams.tractogram)\n",
    "nib.streamlines.load(\"/home/ang/Documents/GitHub/SupWMA/merged_tracks.tck\")"
   ]
  },
  {
   "cell_type": "code",
   "execution_count": 9,
   "metadata": {},
   "outputs": [
    {
     "name": "stdout",
     "output_type": "stream",
     "text": [
      "tckinfo: \u001b[01;31m[ERROR] invalid first line for key/value file \"/home/ang/Documents/GitHub/SupWMA/merged_tracks.tck\" (expected \"mrtrix tracks\")\u001b[0m\n"
     ]
    }
   ],
   "source": [
    "!tckinfo /home/ang/Documents/GitHub/SupWMA/merged_tracks.tck"
   ]
  },
  {
   "cell_type": "markdown",
   "metadata": {},
   "source": []
  },
  {
   "cell_type": "markdown",
   "metadata": {},
   "source": [
    "## tck2trk"
   ]
  },
  {
   "cell_type": "code",
   "execution_count": null,
   "metadata": {},
   "outputs": [],
   "source": [
    "input_tck = \"\"\n",
    "output_trk = \"\"\n",
    "\n",
    "from nipype.interfaces import mrtrix\n",
    "tck2trk = mrtrix.MRTrix2TrackVis()\n",
    "\n",
    "tck2trk.inputs.in_file = input_tck\n",
    "tck2trk.inputs.image_file = output_trk\n",
    "tck2trk.run()      "
   ]
  },
  {
   "cell_type": "markdown",
   "metadata": {},
   "source": [
    "## trk2vtk"
   ]
  },
  {
   "cell_type": "code",
   "execution_count": null,
   "metadata": {},
   "outputs": [],
   "source": []
  },
  {
   "cell_type": "code",
   "execution_count": null,
   "metadata": {},
   "outputs": [],
   "source": [
    "!tckmap tracks /home/ang/Documents/GitHub/SupWMA/merged_tracks.tck \"/home/ang/Documents/GitHub/SupWMA/merged_tracks.jpg\""
   ]
  },
  {
   "cell_type": "code",
   "execution_count": null,
   "metadata": {},
   "outputs": [],
   "source": []
  }
 ],
 "metadata": {
  "kernelspec": {
   "display_name": "Python 3.6.10 ('SupWMA')",
   "language": "python",
   "name": "python3"
  },
  "language_info": {
   "codemirror_mode": {
    "name": "ipython",
    "version": 3
   },
   "file_extension": ".py",
   "mimetype": "text/x-python",
   "name": "python",
   "nbconvert_exporter": "python",
   "pygments_lexer": "ipython3",
   "version": "3.6.10"
  },
  "orig_nbformat": 4,
  "vscode": {
   "interpreter": {
    "hash": "36aec90b5a07fafc043f146ab1db38cbda9ca0590150a6d49f81c4cf72882f5a"
   }
  }
 },
 "nbformat": 4,
 "nbformat_minor": 2
}
